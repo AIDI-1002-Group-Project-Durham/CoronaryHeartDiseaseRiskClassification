{
 "cells": [
  {
   "cell_type": "markdown",
   "metadata": {},
   "source": [
    "# Heart Disease Prediction Project\n",
    "\n",
    "+ The project involves prediction of heart disease (coronary heart disease) given health and socioeconomic data as inputs."
   ]
  },
  {
   "cell_type": "code",
   "execution_count": 1,
   "metadata": {},
   "outputs": [
    {
     "data": {
      "text/html": [
       "<div>\n",
       "<style scoped>\n",
       "    .dataframe tbody tr th:only-of-type {\n",
       "        vertical-align: middle;\n",
       "    }\n",
       "\n",
       "    .dataframe tbody tr th {\n",
       "        vertical-align: top;\n",
       "    }\n",
       "\n",
       "    .dataframe thead th {\n",
       "        text-align: right;\n",
       "    }\n",
       "</style>\n",
       "<table border=\"1\" class=\"dataframe\">\n",
       "  <thead>\n",
       "    <tr style=\"text-align: right;\">\n",
       "      <th></th>\n",
       "      <th>male</th>\n",
       "      <th>age</th>\n",
       "      <th>education</th>\n",
       "      <th>currentSmoker</th>\n",
       "      <th>cigsPerDay</th>\n",
       "      <th>BPMeds</th>\n",
       "      <th>prevalentStroke</th>\n",
       "      <th>prevalentHyp</th>\n",
       "      <th>diabetes</th>\n",
       "      <th>totChol</th>\n",
       "      <th>sysBP</th>\n",
       "      <th>diaBP</th>\n",
       "      <th>BMI</th>\n",
       "      <th>heartRate</th>\n",
       "      <th>glucose</th>\n",
       "      <th>TenYearCHD</th>\n",
       "    </tr>\n",
       "  </thead>\n",
       "  <tbody>\n",
       "    <tr>\n",
       "      <th>0</th>\n",
       "      <td>True</td>\n",
       "      <td>39</td>\n",
       "      <td>4.0</td>\n",
       "      <td>False</td>\n",
       "      <td>0.0</td>\n",
       "      <td>0.0</td>\n",
       "      <td>0</td>\n",
       "      <td>False</td>\n",
       "      <td>0</td>\n",
       "      <td>195.0</td>\n",
       "      <td>106.0</td>\n",
       "      <td>70.0</td>\n",
       "      <td>26.97</td>\n",
       "      <td>80.0</td>\n",
       "      <td>77.0</td>\n",
       "      <td>False</td>\n",
       "    </tr>\n",
       "    <tr>\n",
       "      <th>1</th>\n",
       "      <td>False</td>\n",
       "      <td>46</td>\n",
       "      <td>2.0</td>\n",
       "      <td>False</td>\n",
       "      <td>0.0</td>\n",
       "      <td>0.0</td>\n",
       "      <td>0</td>\n",
       "      <td>False</td>\n",
       "      <td>0</td>\n",
       "      <td>250.0</td>\n",
       "      <td>121.0</td>\n",
       "      <td>81.0</td>\n",
       "      <td>28.73</td>\n",
       "      <td>95.0</td>\n",
       "      <td>76.0</td>\n",
       "      <td>False</td>\n",
       "    </tr>\n",
       "    <tr>\n",
       "      <th>2</th>\n",
       "      <td>True</td>\n",
       "      <td>48</td>\n",
       "      <td>1.0</td>\n",
       "      <td>True</td>\n",
       "      <td>20.0</td>\n",
       "      <td>0.0</td>\n",
       "      <td>0</td>\n",
       "      <td>False</td>\n",
       "      <td>0</td>\n",
       "      <td>245.0</td>\n",
       "      <td>127.5</td>\n",
       "      <td>80.0</td>\n",
       "      <td>25.34</td>\n",
       "      <td>75.0</td>\n",
       "      <td>70.0</td>\n",
       "      <td>False</td>\n",
       "    </tr>\n",
       "    <tr>\n",
       "      <th>3</th>\n",
       "      <td>False</td>\n",
       "      <td>61</td>\n",
       "      <td>3.0</td>\n",
       "      <td>True</td>\n",
       "      <td>30.0</td>\n",
       "      <td>0.0</td>\n",
       "      <td>0</td>\n",
       "      <td>True</td>\n",
       "      <td>0</td>\n",
       "      <td>225.0</td>\n",
       "      <td>150.0</td>\n",
       "      <td>95.0</td>\n",
       "      <td>28.58</td>\n",
       "      <td>65.0</td>\n",
       "      <td>103.0</td>\n",
       "      <td>True</td>\n",
       "    </tr>\n",
       "    <tr>\n",
       "      <th>4</th>\n",
       "      <td>False</td>\n",
       "      <td>46</td>\n",
       "      <td>3.0</td>\n",
       "      <td>True</td>\n",
       "      <td>23.0</td>\n",
       "      <td>0.0</td>\n",
       "      <td>0</td>\n",
       "      <td>False</td>\n",
       "      <td>0</td>\n",
       "      <td>285.0</td>\n",
       "      <td>130.0</td>\n",
       "      <td>84.0</td>\n",
       "      <td>23.10</td>\n",
       "      <td>85.0</td>\n",
       "      <td>85.0</td>\n",
       "      <td>False</td>\n",
       "    </tr>\n",
       "    <tr>\n",
       "      <th>...</th>\n",
       "      <td>...</td>\n",
       "      <td>...</td>\n",
       "      <td>...</td>\n",
       "      <td>...</td>\n",
       "      <td>...</td>\n",
       "      <td>...</td>\n",
       "      <td>...</td>\n",
       "      <td>...</td>\n",
       "      <td>...</td>\n",
       "      <td>...</td>\n",
       "      <td>...</td>\n",
       "      <td>...</td>\n",
       "      <td>...</td>\n",
       "      <td>...</td>\n",
       "      <td>...</td>\n",
       "      <td>...</td>\n",
       "    </tr>\n",
       "    <tr>\n",
       "      <th>4233</th>\n",
       "      <td>True</td>\n",
       "      <td>50</td>\n",
       "      <td>1.0</td>\n",
       "      <td>True</td>\n",
       "      <td>1.0</td>\n",
       "      <td>0.0</td>\n",
       "      <td>0</td>\n",
       "      <td>True</td>\n",
       "      <td>0</td>\n",
       "      <td>313.0</td>\n",
       "      <td>179.0</td>\n",
       "      <td>92.0</td>\n",
       "      <td>25.97</td>\n",
       "      <td>66.0</td>\n",
       "      <td>86.0</td>\n",
       "      <td>True</td>\n",
       "    </tr>\n",
       "    <tr>\n",
       "      <th>4234</th>\n",
       "      <td>True</td>\n",
       "      <td>51</td>\n",
       "      <td>3.0</td>\n",
       "      <td>True</td>\n",
       "      <td>43.0</td>\n",
       "      <td>0.0</td>\n",
       "      <td>0</td>\n",
       "      <td>False</td>\n",
       "      <td>0</td>\n",
       "      <td>207.0</td>\n",
       "      <td>126.5</td>\n",
       "      <td>80.0</td>\n",
       "      <td>19.71</td>\n",
       "      <td>65.0</td>\n",
       "      <td>68.0</td>\n",
       "      <td>False</td>\n",
       "    </tr>\n",
       "    <tr>\n",
       "      <th>4235</th>\n",
       "      <td>False</td>\n",
       "      <td>48</td>\n",
       "      <td>2.0</td>\n",
       "      <td>True</td>\n",
       "      <td>20.0</td>\n",
       "      <td>NaN</td>\n",
       "      <td>0</td>\n",
       "      <td>False</td>\n",
       "      <td>0</td>\n",
       "      <td>248.0</td>\n",
       "      <td>131.0</td>\n",
       "      <td>72.0</td>\n",
       "      <td>22.00</td>\n",
       "      <td>84.0</td>\n",
       "      <td>86.0</td>\n",
       "      <td>False</td>\n",
       "    </tr>\n",
       "    <tr>\n",
       "      <th>4236</th>\n",
       "      <td>False</td>\n",
       "      <td>44</td>\n",
       "      <td>1.0</td>\n",
       "      <td>True</td>\n",
       "      <td>15.0</td>\n",
       "      <td>0.0</td>\n",
       "      <td>0</td>\n",
       "      <td>False</td>\n",
       "      <td>0</td>\n",
       "      <td>210.0</td>\n",
       "      <td>126.5</td>\n",
       "      <td>87.0</td>\n",
       "      <td>19.16</td>\n",
       "      <td>86.0</td>\n",
       "      <td>NaN</td>\n",
       "      <td>False</td>\n",
       "    </tr>\n",
       "    <tr>\n",
       "      <th>4237</th>\n",
       "      <td>False</td>\n",
       "      <td>52</td>\n",
       "      <td>2.0</td>\n",
       "      <td>False</td>\n",
       "      <td>0.0</td>\n",
       "      <td>0.0</td>\n",
       "      <td>0</td>\n",
       "      <td>False</td>\n",
       "      <td>0</td>\n",
       "      <td>269.0</td>\n",
       "      <td>133.5</td>\n",
       "      <td>83.0</td>\n",
       "      <td>21.47</td>\n",
       "      <td>80.0</td>\n",
       "      <td>107.0</td>\n",
       "      <td>False</td>\n",
       "    </tr>\n",
       "  </tbody>\n",
       "</table>\n",
       "<p>4238 rows × 16 columns</p>\n",
       "</div>"
      ],
      "text/plain": [
       "       male  age  education  currentSmoker  cigsPerDay  BPMeds  \\\n",
       "0      True   39        4.0          False         0.0     0.0   \n",
       "1     False   46        2.0          False         0.0     0.0   \n",
       "2      True   48        1.0           True        20.0     0.0   \n",
       "3     False   61        3.0           True        30.0     0.0   \n",
       "4     False   46        3.0           True        23.0     0.0   \n",
       "...     ...  ...        ...            ...         ...     ...   \n",
       "4233   True   50        1.0           True         1.0     0.0   \n",
       "4234   True   51        3.0           True        43.0     0.0   \n",
       "4235  False   48        2.0           True        20.0     NaN   \n",
       "4236  False   44        1.0           True        15.0     0.0   \n",
       "4237  False   52        2.0          False         0.0     0.0   \n",
       "\n",
       "      prevalentStroke  prevalentHyp  diabetes  totChol  sysBP  diaBP    BMI  \\\n",
       "0                   0         False         0    195.0  106.0   70.0  26.97   \n",
       "1                   0         False         0    250.0  121.0   81.0  28.73   \n",
       "2                   0         False         0    245.0  127.5   80.0  25.34   \n",
       "3                   0          True         0    225.0  150.0   95.0  28.58   \n",
       "4                   0         False         0    285.0  130.0   84.0  23.10   \n",
       "...               ...           ...       ...      ...    ...    ...    ...   \n",
       "4233                0          True         0    313.0  179.0   92.0  25.97   \n",
       "4234                0         False         0    207.0  126.5   80.0  19.71   \n",
       "4235                0         False         0    248.0  131.0   72.0  22.00   \n",
       "4236                0         False         0    210.0  126.5   87.0  19.16   \n",
       "4237                0         False         0    269.0  133.5   83.0  21.47   \n",
       "\n",
       "      heartRate  glucose  TenYearCHD  \n",
       "0          80.0     77.0       False  \n",
       "1          95.0     76.0       False  \n",
       "2          75.0     70.0       False  \n",
       "3          65.0    103.0        True  \n",
       "4          85.0     85.0       False  \n",
       "...         ...      ...         ...  \n",
       "4233       66.0     86.0        True  \n",
       "4234       65.0     68.0       False  \n",
       "4235       84.0     86.0       False  \n",
       "4236       86.0      NaN       False  \n",
       "4237       80.0    107.0       False  \n",
       "\n",
       "[4238 rows x 16 columns]"
      ]
     },
     "execution_count": 1,
     "metadata": {},
     "output_type": "execute_result"
    }
   ],
   "source": [
    "import pandas as pd\n",
    "import numpy as np\n",
    "\n",
    "# Casting The correct datatypes\n",
    "data_types = {\"male\":np.bool_, \"age\":np.int0, \"currentSmoker\":np.bool_, \"TenYearCHD\": np.bool_ , \"prevalentHyp\":np.bool_}\n",
    "main_df = pd.read_csv(\"dataset.csv\", dtype= data_types)\n",
    "\n",
    "main_df"
   ]
  },
  {
   "cell_type": "markdown",
   "metadata": {},
   "source": [
    "---\n",
    "## EDA and Statistics\n",
    "+ We will use the pandas profiler library for this"
   ]
  },
  {
   "cell_type": "code",
   "execution_count": 7,
   "metadata": {},
   "outputs": [
    {
     "name": "stdout",
     "output_type": "stream",
     "text": [
      "Requirement already satisfied: pandas-profiling in /root/miniconda3/envs/d2l/lib/python3.8/site-packages (3.1.0)\n",
      "Requirement already satisfied: multimethod>=1.4 in /root/miniconda3/envs/d2l/lib/python3.8/site-packages (from pandas-profiling) (1.6)\n",
      "Requirement already satisfied: pandas!=1.0.0,!=1.0.1,!=1.0.2,!=1.1.0,>=0.25.3 in /root/miniconda3/envs/d2l/lib/python3.8/site-packages (from pandas-profiling) (1.3.4)\n",
      "Requirement already satisfied: markupsafe~=2.0.1 in /root/miniconda3/envs/d2l/lib/python3.8/site-packages (from pandas-profiling) (2.0.1)\n",
      "Requirement already satisfied: missingno>=0.4.2 in /root/miniconda3/envs/d2l/lib/python3.8/site-packages (from pandas-profiling) (0.5.0)\n",
      "Requirement already satisfied: pydantic>=1.8.1 in /root/miniconda3/envs/d2l/lib/python3.8/site-packages (from pandas-profiling) (1.8.2)\n",
      "Requirement already satisfied: tangled-up-in-unicode==0.1.0 in /root/miniconda3/envs/d2l/lib/python3.8/site-packages (from pandas-profiling) (0.1.0)\n",
      "Requirement already satisfied: matplotlib>=3.2.0 in /root/miniconda3/envs/d2l/lib/python3.8/site-packages (from pandas-profiling) (3.4.3)\n",
      "Requirement already satisfied: joblib~=1.0.1 in /root/miniconda3/envs/d2l/lib/python3.8/site-packages (from pandas-profiling) (1.0.1)\n",
      "Requirement already satisfied: jinja2>=2.11.1 in /root/miniconda3/envs/d2l/lib/python3.8/site-packages (from pandas-profiling) (3.0.1)\n",
      "Requirement already satisfied: scipy>=1.4.1 in /root/miniconda3/envs/d2l/lib/python3.8/site-packages (from pandas-profiling) (1.7.1)\n",
      "Requirement already satisfied: htmlmin>=0.1.12 in /root/miniconda3/envs/d2l/lib/python3.8/site-packages (from pandas-profiling) (0.1.12)\n",
      "Requirement already satisfied: seaborn>=0.10.1 in /root/miniconda3/envs/d2l/lib/python3.8/site-packages (from pandas-profiling) (0.11.2)\n",
      "Requirement already satisfied: phik>=0.11.1 in /root/miniconda3/envs/d2l/lib/python3.8/site-packages (from pandas-profiling) (0.12.0)\n",
      "Requirement already satisfied: requests>=2.24.0 in /root/miniconda3/envs/d2l/lib/python3.8/site-packages (from pandas-profiling) (2.26.0)\n",
      "Requirement already satisfied: numpy>=1.16.0 in /root/miniconda3/envs/d2l/lib/python3.8/site-packages (from pandas-profiling) (1.21.2)\n",
      "Requirement already satisfied: tqdm>=4.48.2 in /root/miniconda3/envs/d2l/lib/python3.8/site-packages (from pandas-profiling) (4.62.3)\n",
      "Requirement already satisfied: PyYAML>=5.0.0 in /root/miniconda3/envs/d2l/lib/python3.8/site-packages (from pandas-profiling) (6.0)\n",
      "Requirement already satisfied: visions[type_image_path]==0.7.4 in /root/miniconda3/envs/d2l/lib/python3.8/site-packages (from pandas-profiling) (0.7.4)\n",
      "Requirement already satisfied: attrs>=19.3.0 in /root/miniconda3/envs/d2l/lib/python3.8/site-packages (from visions[type_image_path]==0.7.4->pandas-profiling) (21.2.0)\n",
      "Requirement already satisfied: networkx>=2.4 in /root/miniconda3/envs/d2l/lib/python3.8/site-packages (from visions[type_image_path]==0.7.4->pandas-profiling) (2.6.3)\n",
      "Requirement already satisfied: imagehash in /root/miniconda3/envs/d2l/lib/python3.8/site-packages (from visions[type_image_path]==0.7.4->pandas-profiling) (4.2.1)\n",
      "Requirement already satisfied: Pillow in /root/miniconda3/envs/d2l/lib/python3.8/site-packages (from visions[type_image_path]==0.7.4->pandas-profiling) (8.3.2)\n",
      "Requirement already satisfied: kiwisolver>=1.0.1 in /root/miniconda3/envs/d2l/lib/python3.8/site-packages (from matplotlib>=3.2.0->pandas-profiling) (1.3.2)\n",
      "Requirement already satisfied: python-dateutil>=2.7 in /root/miniconda3/envs/d2l/lib/python3.8/site-packages (from matplotlib>=3.2.0->pandas-profiling) (2.8.2)\n",
      "Requirement already satisfied: cycler>=0.10 in /root/miniconda3/envs/d2l/lib/python3.8/site-packages (from matplotlib>=3.2.0->pandas-profiling) (0.11.0)\n",
      "Requirement already satisfied: pyparsing>=2.2.1 in /root/miniconda3/envs/d2l/lib/python3.8/site-packages (from matplotlib>=3.2.0->pandas-profiling) (2.4.7)\n",
      "Requirement already satisfied: pytz>=2017.3 in /root/miniconda3/envs/d2l/lib/python3.8/site-packages (from pandas!=1.0.0,!=1.0.1,!=1.0.2,!=1.1.0,>=0.25.3->pandas-profiling) (2021.1)\n",
      "Requirement already satisfied: typing-extensions>=3.7.4.3 in /root/miniconda3/envs/d2l/lib/python3.8/site-packages (from pydantic>=1.8.1->pandas-profiling) (3.10.0.2)\n",
      "Requirement already satisfied: six>=1.5 in /root/miniconda3/envs/d2l/lib/python3.8/site-packages (from python-dateutil>=2.7->matplotlib>=3.2.0->pandas-profiling) (1.16.0)\n",
      "Requirement already satisfied: urllib3<1.27,>=1.21.1 in /root/miniconda3/envs/d2l/lib/python3.8/site-packages (from requests>=2.24.0->pandas-profiling) (1.26.7)\n",
      "Requirement already satisfied: certifi>=2017.4.17 in /root/miniconda3/envs/d2l/lib/python3.8/site-packages (from requests>=2.24.0->pandas-profiling) (2021.10.8)\n",
      "Requirement already satisfied: idna<4,>=2.5 in /root/miniconda3/envs/d2l/lib/python3.8/site-packages (from requests>=2.24.0->pandas-profiling) (3.1)\n",
      "Requirement already satisfied: charset-normalizer~=2.0.0 in /root/miniconda3/envs/d2l/lib/python3.8/site-packages (from requests>=2.24.0->pandas-profiling) (2.0.0)\n",
      "Requirement already satisfied: PyWavelets in /root/miniconda3/envs/d2l/lib/python3.8/site-packages (from imagehash->visions[type_image_path]==0.7.4->pandas-profiling) (1.1.1)\n"
     ]
    },
    {
     "data": {
      "application/vnd.jupyter.widget-view+json": {
       "model_id": "a622ba15fddf4e808a500daf962ac1b2",
       "version_major": 2,
       "version_minor": 0
      },
      "text/plain": [
       "Summarize dataset:   0%|          | 0/5 [00:00<?, ?it/s]"
      ]
     },
     "metadata": {},
     "output_type": "display_data"
    },
    {
     "data": {
      "application/vnd.jupyter.widget-view+json": {
       "model_id": "ab6de9a8226c4619b80e6c4d9cfdabeb",
       "version_major": 2,
       "version_minor": 0
      },
      "text/plain": [
       "Generate report structure:   0%|          | 0/1 [00:00<?, ?it/s]"
      ]
     },
     "metadata": {},
     "output_type": "display_data"
    },
    {
     "data": {
      "application/vnd.jupyter.widget-view+json": {
       "model_id": "69d753ec7df24e08b81db586afe7345f",
       "version_major": 2,
       "version_minor": 0
      },
      "text/plain": [
       "Render HTML:   0%|          | 0/1 [00:00<?, ?it/s]"
      ]
     },
     "metadata": {},
     "output_type": "display_data"
    },
    {
     "data": {
      "application/vnd.jupyter.widget-view+json": {
       "model_id": "f9ade6e1108942feab84bc0e93cafcfc",
       "version_major": 2,
       "version_minor": 0
      },
      "text/plain": [
       "Export report to file:   0%|          | 0/1 [00:00<?, ?it/s]"
      ]
     },
     "metadata": {},
     "output_type": "display_data"
    }
   ],
   "source": [
    "!pip install pandas-profiling\n",
    "from pandas_profiling import ProfileReport\n",
    "\n",
    "profile = ProfileReport(main_df, title=\"Profiling Report\", explorative=True)\n",
    "profile.to_file(\"EDAreport.html\")\n"
   ]
  },
  {
   "cell_type": "markdown",
   "metadata": {},
   "source": [
    "***\n",
    "\n",
    "## Data Pre-processing\n",
    "\n",
    "### Missing Data Imputation"
   ]
  },
  {
   "cell_type": "code",
   "execution_count": 25,
   "metadata": {},
   "outputs": [
    {
     "data": {
      "text/plain": [
       "RangeIndex(start=0, stop=4238, step=1)"
      ]
     },
     "execution_count": 25,
     "metadata": {},
     "output_type": "execute_result"
    }
   ],
   "source": [
    "from sklearn.impute import KNNImputer\n",
    "\n",
    "# Separate out target attribute from the rest of the attributes\n",
    "ten_year_chd = main_df.pop(\"TenYearCHD\").astype(\"int\")\n",
    "\n",
    "# Imputation of various attributes that have missing values \n",
    "# Glucose Imputation - we will the top 3 most co-related features and use the kNN method for imputation \n",
    "gluc_temp_df = main_df[[\"glucose\", \"sysBP\",\"age\", \"diabetes\"]]\n",
    "imputed_values = KNNImputer(n_neighbors=5, weights=\"uniform\").fit_transform(gluc_temp_df)\n",
    "main_df[\"glucose\"] = imputed_values[:,0]\n",
    "\n",
    "\n",
    "# for the rest of the missing values, since percent missing is insignificant, we just use kNN imputer\n",
    "new_df = pd.DataFrame(KNNImputer(n_neighbors=5, weights=\"uniform\").fit_transform(main_df))\n",
    "new_df.columns = main_df.columns\n",
    "main_df = new_df\n",
    "main_df.index\n",
    "\n",
    "\n",
    "\n",
    "\n",
    "\n"
   ]
  },
  {
   "cell_type": "code",
   "execution_count": 8,
   "metadata": {},
   "outputs": [
    {
     "data": {
      "application/vnd.jupyter.widget-view+json": {
       "model_id": "7f6c83e47c6d46ba96f99e2220954829",
       "version_major": 2,
       "version_minor": 0
      },
      "text/plain": [
       "Summarize dataset:   0%|          | 0/5 [00:00<?, ?it/s]"
      ]
     },
     "metadata": {},
     "output_type": "display_data"
    },
    {
     "data": {
      "application/vnd.jupyter.widget-view+json": {
       "model_id": "1985bee72c7c479287b3456f02b887f2",
       "version_major": 2,
       "version_minor": 0
      },
      "text/plain": [
       "Generate report structure:   0%|          | 0/1 [00:00<?, ?it/s]"
      ]
     },
     "metadata": {},
     "output_type": "display_data"
    },
    {
     "data": {
      "application/vnd.jupyter.widget-view+json": {
       "model_id": "3fd8e704eff44beb95bdfe8d26fc4e3c",
       "version_major": 2,
       "version_minor": 0
      },
      "text/plain": [
       "Render HTML:   0%|          | 0/1 [00:00<?, ?it/s]"
      ]
     },
     "metadata": {},
     "output_type": "display_data"
    },
    {
     "data": {
      "application/vnd.jupyter.widget-view+json": {
       "model_id": "c47c7e305c8d4dc0b2849be2a20ed99e",
       "version_major": 2,
       "version_minor": 0
      },
      "text/plain": [
       "Export report to file:   0%|          | 0/1 [00:00<?, ?it/s]"
      ]
     },
     "metadata": {},
     "output_type": "display_data"
    }
   ],
   "source": [
    "profile1 = ProfileReport(main_df, title=\"Post Processing\", explorative=True)\n",
    "profile1.to_file(\"PostProcessing.html\")"
   ]
  },
  {
   "cell_type": "markdown",
   "metadata": {},
   "source": [
    "***\n",
    "## Modelling (SVM and Logistic)\n",
    "### 1. Logistic Regression Model"
   ]
  },
  {
   "cell_type": "code",
   "execution_count": 46,
   "metadata": {},
   "outputs": [
    {
     "data": {
      "text/plain": [
       "0.8532324219565782"
      ]
     },
     "execution_count": 46,
     "metadata": {},
     "output_type": "execute_result"
    }
   ],
   "source": [
    "\"\"\"We will be using k-fold cross-validation instead of single hold-out(train-test split)\"\"\"\n",
    "from sklearn.linear_model import LogisticRegression\n",
    "from sklearn.model_selection import cross_val_score\n",
    "logisitic_model = LogisticRegression(solver='liblinear', C=3.0, random_state=0)\n",
    "cross_val_score(logisitic_model, main_df, ten_year_chd, cv=15).mean()"
   ]
  },
  {
   "cell_type": "markdown",
   "metadata": {},
   "source": [
    "### 2. Support Vector Machine (SVM) Model"
   ]
  },
  {
   "cell_type": "code",
   "execution_count": 45,
   "metadata": {},
   "outputs": [
    {
     "data": {
      "text/plain": [
       "0.8480415006390499"
      ]
     },
     "execution_count": 45,
     "metadata": {},
     "output_type": "execute_result"
    }
   ],
   "source": [
    "from sklearn import svm\n",
    "svm_model = svm.SVC()\n",
    "# Quick score of model performance\n",
    "cross_val_score(svm_model, main_df, ten_year_chd, cv=15).mean()\n"
   ]
  },
  {
   "cell_type": "markdown",
   "metadata": {},
   "source": [
    "***\n",
    "## Cross-validation and Evaluation\n",
    "\n",
    "### 1. Cross-validation confusion matrix generation"
   ]
  },
  {
   "cell_type": "code",
   "execution_count": 74,
   "metadata": {},
   "outputs": [],
   "source": [
    "from sklearn.model_selection import StratifiedKFold\n",
    "from sklearn.metrics import confusion_matrix\n",
    "\n",
    "# We have to generate confusion matrix manually for cross validation, then average the results\n",
    "def get_confusion_matrix(model):\n",
    "    conf_matrix_list_of_arrays = []\n",
    "    skf = StratifiedKFold(n_splits=7, random_state=0, shuffle=True)\n",
    "    for train_index, test_index in skf.split(main_df, ten_year_chd):\n",
    "        X_train, X_test = main_df.iloc[train_index], main_df.iloc[test_index]\n",
    "        y_train, y_test = ten_year_chd.iloc[train_index], ten_year_chd.iloc[test_index]\n",
    "        model.fit(X_train, y_train)\n",
    "        conf_matrix = confusion_matrix(y_test, model.predict(X_test))\n",
    "        conf_matrix_list_of_arrays .append(conf_matrix)\n",
    "    return np.round(np.mean(conf_matrix_list_of_arrays, axis=0), 4)\n",
    "    \n",
    "confusion_matrix_dict = {\"logistic\": get_confusion_matrix(logisitic_model), \"svm\": get_confusion_matrix(svm_model)}\n",
    "\n",
    "\n"
   ]
  },
  {
   "cell_type": "markdown",
   "metadata": {},
   "source": [
    "### 2. Model Evaluation"
   ]
  },
  {
   "cell_type": "code",
   "execution_count": 75,
   "metadata": {},
   "outputs": [
    {
     "name": "stdout",
     "output_type": "stream",
     "text": [
      "logistic: [precision: 0.6515177226735677] [accuracy: 0.8527608375289835] [sensitivity: 0.06677065217391305] [specificity: 0.993600473366696]\n",
      "svm: [precision: 0.5714] [accuracy: 0.8482774021577443] [sensitivity: 0.006210869565217392] [specificity: 0.9991652198572499]\n"
     ]
    }
   ],
   "source": [
    "# We print the results of the model accuracy\n",
    "evaluation_dict = {}\n",
    "for key, val in confusion_matrix_dict.items():\n",
    "    tn, fp, fn, tp = val.flatten()\n",
    "    accuracy = (tp + tn) / (tp + tn + fn + fp)\n",
    "    sensitivity = tp / (tp + fn)\n",
    "    specificity = tn / (tn + fp)\n",
    "    precision = tp / (tp + fp)\n",
    "    print(f\"{key}: [precision: {precision}] [accuracy: {accuracy}] [sensitivity: {sensitivity}] [specificity: {specificity}]\" )\n",
    "\n"
   ]
  }
 ],
 "metadata": {
  "interpreter": {
   "hash": "916dbcbb3f70747c44a77c7bcd40155683ae19c65e1c03b4aa3499c5328201f1"
  },
  "kernelspec": {
   "display_name": "Python 3.8.5 64-bit",
   "language": "python",
   "name": "python3"
  },
  "language_info": {
   "codemirror_mode": {
    "name": "ipython",
    "version": 3
   },
   "file_extension": ".py",
   "mimetype": "text/x-python",
   "name": "python",
   "nbconvert_exporter": "python",
   "pygments_lexer": "ipython3",
   "version": "3.8.2"
  },
  "orig_nbformat": 4
 },
 "nbformat": 4,
 "nbformat_minor": 2
}
