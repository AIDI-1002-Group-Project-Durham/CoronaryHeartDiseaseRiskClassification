{
  "nbformat": 4,
  "nbformat_minor": 0,
  "metadata": {
    "colab": {
      "name": "CHD_AI_Algo.ipynb",
      "provenance": [],
      "collapsed_sections": []
    },
    "kernelspec": {
      "name": "python3",
      "display_name": "Python 3"
    },
    "language_info": {
      "name": "python"
    }
  },
  "cells": [
    {
      "cell_type": "markdown",
      "metadata": {
        "id": "uq26neLtvNLw"
      },
      "source": [
        "#Heart Disease Prediction Project\n",
        "The project involves prediction of heart disease (coronary heart disease) given health and socioeconomic data as inputs."
      ]
    },
    {
      "cell_type": "code",
      "metadata": {
        "id": "gXLT6ItdFna-"
      },
      "source": [
        "import pandas as pd\n",
        "import numpy as np"
      ],
      "execution_count": 4,
      "outputs": []
    },
    {
      "cell_type": "code",
      "metadata": {
        "id": "7Yr7tw2UHtRi"
      },
      "source": [
        "# upload data file\n",
        "from google.colab import files\n",
        "uploaded = files.upload()"
      ],
      "execution_count": null,
      "outputs": []
    },
    {
      "cell_type": "code",
      "metadata": {
        "colab": {
          "base_uri": "https://localhost:8080/"
        },
        "id": "2Lmo1HgpHxGE",
        "outputId": "02794848-9d5f-445c-fc5f-8fdead30db2a"
      },
      "source": [
        "# Casting the correct datatypes\n",
        "data_types = {\"male\":np.bool_, \"age\":np.int0, \"currentSmoker\":np.bool_, \"TenYearCHD\": np.bool_ , \"prevalentHyp\":np.bool_}\n",
        "main_df = pd.read_csv(\"dataset.csv\", dtype= data_types)\n",
        "main_df.dtypes"
      ],
      "execution_count": 13,
      "outputs": [
        {
          "output_type": "execute_result",
          "data": {
            "text/plain": [
              "male                  bool\n",
              "age                  int64\n",
              "education          float64\n",
              "currentSmoker         bool\n",
              "cigsPerDay         float64\n",
              "BPMeds             float64\n",
              "prevalentStroke      int64\n",
              "prevalentHyp          bool\n",
              "diabetes             int64\n",
              "totChol            float64\n",
              "sysBP              float64\n",
              "diaBP              float64\n",
              "BMI                float64\n",
              "heartRate          float64\n",
              "glucose            float64\n",
              "TenYearCHD            bool\n",
              "dtype: object"
            ]
          },
          "metadata": {},
          "execution_count": 13
        }
      ]
    },
    {
      "cell_type": "markdown",
      "metadata": {
        "id": "Kvoc8n_KvX5u"
      },
      "source": [
        "# EDA and Statistics\n",
        "+ Pandas profiler library used for data analysis"
      ]
    },
    {
      "cell_type": "code",
      "metadata": {
        "id": "fs8me6QUH6wl"
      },
      "source": [
        "!pip install https://github.com/pandas-profiling/pandas-profiling/archive/master.zip\n",
        "from pandas_profiling import ProfileReport\n",
        "\n",
        "profile = ProfileReport(main_df, title=\"Profiling Report\", explorative=True)\n",
        "profile.to_file(\"EDAreport.html\")"
      ],
      "execution_count": null,
      "outputs": []
    },
    {
      "cell_type": "markdown",
      "metadata": {
        "id": "DG0VQgIEvfUW"
      },
      "source": [
        "# Data Pre-processing"
      ]
    },
    {
      "cell_type": "markdown",
      "metadata": {
        "id": "vCbkDC2u4imB"
      },
      "source": [
        "Missing values are replaced with mean of its column"
      ]
    },
    {
      "cell_type": "code",
      "metadata": {
        "id": "-Gxm1ZacIvk2"
      },
      "source": [
        "# Checking and replacing missing values with value (mean) - Imputation\n",
        "print('Missing values::::')\n",
        "main_df.info()\n",
        "updated_df = main_df\n",
        "for col in updated_df:\n",
        "  if updated_df[col].isna().sum() > 0:\n",
        "    main_df[col]=main_df[col].fillna(main_df[col].mean())\n",
        "print('\\nMissing values handling::::')\n",
        "main_df.info()"
      ],
      "execution_count": null,
      "outputs": []
    },
    {
      "cell_type": "markdown",
      "metadata": {
        "id": "_xkccNlt4naQ"
      },
      "source": [
        "Checking outliers for most correlated variables"
      ]
    },
    {
      "cell_type": "code",
      "metadata": {
        "colab": {
          "base_uri": "https://localhost:8080/"
        },
        "id": "dCiNgyKwwCmY",
        "outputId": "4d679378-5cc8-49d4-fa28-187854062fcb"
      },
      "source": [
        "def check_Outliers(col):\n",
        "  Q1 = col.quantile(0.25)\n",
        "  Q3 = col.quantile(0.75)\n",
        "  IQR = Q3-Q1\n",
        "  lower = Q1 - 1.5*IQR\n",
        "  upper = Q3 + 1.5*IQR\n",
        "  print(main_df[(col < lower)])\n",
        "\n",
        "check_Outliers(main_df['age'])\n",
        "check_Outliers(main_df['prevalentHyp'])\n",
        "check_Outliers(main_df['sysBP'])"
      ],
      "execution_count": 37,
      "outputs": [
        {
          "output_type": "stream",
          "name": "stdout",
          "text": [
            "Empty DataFrame\n",
            "Columns: [male, age, education, currentSmoker, cigsPerDay, BPMeds, prevalentStroke, prevalentHyp, diabetes, totChol, sysBP, diaBP, BMI, heartRate, glucose, TenYearCHD]\n",
            "Index: []\n",
            "Empty DataFrame\n",
            "Columns: [male, age, education, currentSmoker, cigsPerDay, BPMeds, prevalentStroke, prevalentHyp, diabetes, totChol, sysBP, diaBP, BMI, heartRate, glucose, TenYearCHD]\n",
            "Index: []\n",
            "Empty DataFrame\n",
            "Columns: [male, age, education, currentSmoker, cigsPerDay, BPMeds, prevalentStroke, prevalentHyp, diabetes, totChol, sysBP, diaBP, BMI, heartRate, glucose, TenYearCHD]\n",
            "Index: []\n"
          ]
        }
      ]
    }
  ]
}